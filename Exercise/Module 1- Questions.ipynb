{
 "cells": [
  {
   "cell_type": "code",
   "execution_count": null,
   "metadata": {},
   "outputs": [],
   "source": [
    "# Module 1: Exercises"
   ]
  },
  {
   "cell_type": "markdown",
   "metadata": {},
   "source": [
    "### Q1. Write a Python program to sum all the items in a list.\n",
    "\n",
    "* Sample Input: [1, 2, -8]\n",
    "* Sample Output: -5"
   ]
  },
  {
   "cell_type": "markdown",
   "metadata": {},
   "source": [
    "### Q2. Write a Python program to get the smallest number from a list.\n",
    "* Sample Input: [1, 2, -8, 0]\n",
    "* Sample Output: -8"
   ]
  },
  {
   "cell_type": "markdown",
   "metadata": {},
   "source": [
    "### Q3. Write code to generate and print a dictionary that contains a number (between 1 and n) in the form (x, x*x).\n",
    "\n",
    "* Sample Input: n = 10\n",
    "* Sample Output: {1: 1, 2: 4, 3: 9, 4: 16, 5: 25, 6: 36, 7: 49, 8: 64, 9: 81, 10: 100}   "
   ]
  },
  {
   "cell_type": "markdown",
   "metadata": {},
   "source": [
    "### Q4. Write a Python code to merge two Python dictionaries\n",
    "\n",
    "* d1 = {'a': 100, 'b':200}\n",
    "* d2 = {'x': 300, 'y': 200}\n",
    "\n",
    "* Output: {'x': 300, 'y': 200, 'a': 100, 'b': 200}\n",
    "\n",
    "**Hint** - You can use an `update` function in dictionary, or you can also try using `for` loops"
   ]
  },
  {
   "cell_type": "markdown",
   "metadata": {},
   "source": [
    "### Q5. Write a code to remove duplicates from Dictionary\n",
    "\n",
    "Input : \n",
    "```\n",
    "student_data = {'id1': \n",
    "   {'name': ['Sara'], \n",
    "    'class': ['V'], \n",
    "    'subject_integration': ['english, math, science']\n",
    "   },\n",
    " 'id2': \n",
    "  {'name': ['David'], \n",
    "    'class': ['V'], \n",
    "    'subject_integration': ['english, math, science']\n",
    "   },\n",
    " 'id3': \n",
    "    {'name': ['Sara'], \n",
    "    'class': ['V'], \n",
    "    'subject_integration': ['english, math, science']\n",
    "   },\n",
    " 'id4': \n",
    "   {'name': ['Surya'], \n",
    "    'class': ['V'], \n",
    "    'subject_integration': ['english, math, science']\n",
    "   },\n",
    "}\n",
    "``` \n",
    "Output: \n",
    "```\n",
    "{'id2': {'subject_integration': ['english, math, science'], 'class': ['V'], 'name': ['David']}, 'id4': {'subje\n",
    "ct_integration': ['english, math, science'], 'class': ['V'], 'name': ['Surya']}, 'id1': {'subject_integration'\n",
    ": ['english, math, science'], 'class': ['V'], 'name': ['Sara']}}  \n",
    "```"
   ]
  },
  {
   "cell_type": "markdown",
   "metadata": {},
   "source": [
    "### Q6. Write a Python program to convert a list of tuples into a dictionary.\r\n",
    "\r\n",
    "* Input: [(\"x\", 1), (\"x\", 2), (\"x\", 3), (\"y\", 1), (\"y\", 2), (\"z\", 1)]\r\n",
    "\r\n",
    "* Output: {'x': [1, 2, 3], 'y': [1, 2], 'z': [1]}"
   ]
  },
  {
   "cell_type": "markdown",
   "metadata": {},
   "source": [
    "### Q7. Write a Python program to remove the intersection of a 2nd set from the 1st set.\n",
    "\n",
    "* Input: s1={1, 2, 3, 4, 5},  s2={4, 5, 6, 7, 8}\n",
    "* Output: {1, 2, 3}\n",
    "\n",
    "**Hint**: Read about `different_update` function, also, you can try using `-` operator with sets and see what happens"
   ]
  },
  {
   "cell_type": "markdown",
   "metadata": {},
   "source": [
    "### Q8: Write a Python program to construct the following pattern, using a nested for loop.\n",
    "\n",
    "```\n",
    "* \n",
    "* * \n",
    "* * * \n",
    "* * * * \n",
    "* * * * * \n",
    "* * * * \n",
    "* * * \n",
    "* * \n",
    "*\n",
    "```\n",
    "\n",
    "\n",
    "Reference this: https://www.geeksforgeeks.org/loops-in-python/ for more about nested loops and loops in general"
   ]
  },
  {
   "cell_type": "markdown",
   "metadata": {},
   "source": [
    "### Q9: Write a Python program to check the validity of password input by users.\n",
    "\n",
    "```\n",
    "Validation :\n",
    "\n",
    "At least 1 letter between [a-z] and 1 letter between [A-Z].\n",
    "At least 1 number between [0-9].\n",
    "At least 1 character from [$#@].\n",
    "Minimum length 6 characters.\n",
    "Maximum length 16 characters.\n",
    "```\n",
    "\n",
    "* Input: W3r@100a                                                                                   \n",
    "* Output: Valid Password\n",
    "\n",
    "\n",
    "\n",
    "**Hint**: Think of how you will use loops and conditionals together"
   ]
  },
  {
   "cell_type": "markdown",
   "metadata": {},
   "source": [
    "### Q10: Write a Python function that checks whether a passed string is palindrome or not.\n",
    "\n",
    "**Note**: A palindrome is a word, phrase, or sequence that reads the same backward as forward, e.g., madam or nurses run."
   ]
  },
  {
   "cell_type": "code",
   "execution_count": null,
   "metadata": {},
   "outputs": [],
   "source": []
  }
 ],
 "metadata": {
  "kernelspec": {
   "display_name": "Python 3",
   "language": "python",
   "name": "python3"
  },
  "language_info": {
   "codemirror_mode": {
    "name": "ipython",
    "version": 3
   },
   "file_extension": ".py",
   "mimetype": "text/x-python",
   "name": "python",
   "nbconvert_exporter": "python",
   "pygments_lexer": "ipython3",
   "version": "3.7.6"
  }
 },
 "nbformat": 4,
 "nbformat_minor": 4
}
